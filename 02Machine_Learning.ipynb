{
  "nbformat": 4,
  "nbformat_minor": 0,
  "metadata": {
    "colab": {
      "provenance": []
    },
    "kernelspec": {
      "name": "python3",
      "display_name": "Python 3"
    },
    "language_info": {
      "name": "python"
    }
  },
  "cells": [
    {
      "cell_type": "markdown",
      "source": [
        "## Importe de Librerias"
      ],
      "metadata": {
        "id": "iPwelm7F5CTh"
      }
    },
    {
      "cell_type": "code",
      "source": [
        "# Procesar de la informacion\n",
        "import pandas as pd\n",
        "import numpy as np\n",
        "import matplotlib.pyplot as plt\n",
        "import seaborn as sns\n",
        "\n",
        "# Gestion del arbol de clasificacion\n",
        "from sklearn.tree import DecisionTreeClassifier\n",
        "from sklearn.model_selection import train_test_split\n",
        "from sklearn.metrics import accuracy_score"
      ],
      "metadata": {
        "id": "S-ExbBPA5A0O"
      },
      "execution_count": 6,
      "outputs": []
    },
    {
      "cell_type": "markdown",
      "source": [
        "## Carga del dataset"
      ],
      "metadata": {
        "id": "NFEs46gU5N_a"
      }
    },
    {
      "cell_type": "code",
      "source": [],
      "metadata": {
        "id": "3mWJUb965REe"
      },
      "execution_count": 7,
      "outputs": []
    },
    {
      "cell_type": "markdown",
      "source": [
        "## Procesamiento del dataset"
      ],
      "metadata": {
        "id": "gR_qEkX86RNC"
      }
    },
    {
      "cell_type": "code",
      "source": [],
      "metadata": {
        "id": "KaIl2OcD6U0g"
      },
      "execution_count": null,
      "outputs": []
    },
    {
      "cell_type": "markdown",
      "source": [
        "## Visualizacion del dataset"
      ],
      "metadata": {
        "id": "i7_7w25-9602"
      }
    },
    {
      "cell_type": "code",
      "source": [],
      "metadata": {
        "id": "NRMlBP-Q97GA"
      },
      "execution_count": null,
      "outputs": []
    },
    {
      "cell_type": "markdown",
      "source": [
        "## Gestion del modelo de Machine Learning"
      ],
      "metadata": {
        "id": "bgLm-5QJ6VzO"
      }
    },
    {
      "cell_type": "code",
      "source": [
        "# Dividir los datos en características (X) y etiquetas (y)\n",
        "\n",
        "\n",
        "# Dividir los datos en conjuntos de entrenamiento y prueba\n",
        "X_train, X_test, y_train, y_test = train_test_split(X, y, test_size=0.2, random_state=42)\n",
        "\n",
        "# Crear el clasificador del árbol de decisión\n",
        "clf = DecisionTreeClassifier()\n",
        "\n",
        "# Entrenar el clasificador\n",
        "clf.fit(X_train, y_train)\n",
        "\n",
        "# Realizar predicciones en el conjunto de prueba\n",
        "y_pred = clf.predict(X_test)"
      ],
      "metadata": {
        "id": "csgRfLjr6ckm"
      },
      "execution_count": 8,
      "outputs": []
    },
    {
      "cell_type": "markdown",
      "source": [
        "## Evaluacion del modelo"
      ],
      "metadata": {
        "id": "-jO_Fzu_6mUA"
      }
    },
    {
      "cell_type": "code",
      "source": [
        "# Evaluar la precisión del modelo\n",
        "accuracy = accuracy_score(y_test, y_pred)\n",
        "print(\"Precisión del modelo:\", accuracy)"
      ],
      "metadata": {
        "id": "LmyuiZQZ6pSK"
      },
      "execution_count": null,
      "outputs": []
    },
    {
      "cell_type": "markdown",
      "source": [
        "## Prediccion futura"
      ],
      "metadata": {
        "id": "64-q7Az26qio"
      }
    },
    {
      "cell_type": "code",
      "source": [
        "pred = clf.predict([[]])\n",
        "pred_clas = pred[0]\n",
        "print(f'la clasificación del estudiante es: {pred_clas}')"
      ],
      "metadata": {
        "id": "9Kpw2Ca76qtW"
      },
      "execution_count": null,
      "outputs": []
    }
  ]
}