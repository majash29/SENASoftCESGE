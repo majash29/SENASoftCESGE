{
 "cells": [
  {
   "attachments": {},
   "cell_type": "markdown",
   "metadata": {},
   "source": [
    "# **Visualización de datos estadísticos**\n",
    "\n",
    "x"
   ]
  },
  {
   "attachments": {},
   "cell_type": "markdown",
   "metadata": {},
   "source": [
    "**Visualización de datos cuantitativos:** Una de las primeras cosas que hay que hacer cuando nos enfrentamos a datos cuantitativos (o a cualquier tipo de datos) es hacer algún tipo de representación visual para comprender la estructura de los datos. La visualización más común para datos continuos es el histograma, el cual representa la distribución de los valores\n",
    "\n",
    "Un histograma se construye decidiendo en primer lugar un número de intervalos (o *bins*), que dividen la línea real en un conjunto de cajas en las que caen los valores de los datos. Luego, se dibujan barras verticales sobre los intervalos con una altura proporcional al número de observaciones que caen en el intervalo. \n",
    "\n",
    "Podemos construir un histograma con matplotlib utilizando la función `plt.hist`, la cual toma como argumentos la variable a graficar y el número de bins (entre otros)"
   ]
  }
 ],
 "metadata": {
  "language_info": {
   "name": "python"
  },
  "orig_nbformat": 4
 },
 "nbformat": 4,
 "nbformat_minor": 2
}
